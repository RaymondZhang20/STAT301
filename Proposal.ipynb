{
 "cells": [
  {
   "cell_type": "markdown",
   "id": "a7445ff4-005f-43fd-909e-89217bbc2f09",
   "metadata": {},
   "source": [
    "# GROUP PROPOSAL:"
   ]
  },
  {
   "cell_type": "markdown",
   "id": "db23f208-e940-4552-a152-175eb395a7e3",
   "metadata": {},
   "source": [
    "## Introduction"
   ]
  },
  {
   "cell_type": "markdown",
   "id": "d6b0221e-d478-4288-a8d7-c309a8ecc222",
   "metadata": {},
   "source": [
    "## Exploratory Data Analysis"
   ]
  },
  {
   "cell_type": "markdown",
   "id": "64bc0aff-ec59-426d-87fe-2ead887815b7",
   "metadata": {},
   "source": [
    "## Methods: Plan"
   ]
  },
  {
   "cell_type": "markdown",
   "id": "72111b4b-2a12-4c27-9501-8d38dc10fe47",
   "metadata": {},
   "source": [
    "## References"
   ]
  },
  {
   "cell_type": "code",
   "execution_count": null,
   "id": "06d76bf2-3549-47b8-80bd-13976227149c",
   "metadata": {},
   "outputs": [],
   "source": []
  }
 ],
 "metadata": {
  "kernelspec": {
   "display_name": "R",
   "language": "R",
   "name": "ir"
  },
  "language_info": {
   "codemirror_mode": "r",
   "file_extension": ".r",
   "mimetype": "text/x-r-source",
   "name": "R",
   "pygments_lexer": "r",
   "version": "4.1.3"
  }
 },
 "nbformat": 4,
 "nbformat_minor": 5
}
